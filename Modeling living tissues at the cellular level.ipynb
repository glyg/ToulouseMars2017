{
 "cells": [
  {
   "cell_type": "markdown",
   "metadata": {
    "slideshow": {
     "slide_type": "slide"
    }
   },
   "source": [
    "# Open source tools to model biological tissues\n",
    "\n",
    "**Guillaume Gay**\n",
    "\n",
    "\n"
   ]
  },
  {
   "cell_type": "markdown",
   "metadata": {},
   "source": [
    "## Morphogénie Logiciels\n",
    "\n",
    "> * A free software edition company (of one :-p)\n",
    "\n",
    "> * **Open** and **reproducible** scientific software\n",
    "\n",
    "> * Focus on modeling"
   ]
  },
  {
   "cell_type": "markdown",
   "metadata": {
    "slideshow": {
     "slide_type": "slide"
    }
   },
   "source": [
    "<hr/>\n",
    "\n",
    "## Why model?\n",
    "\n",
    "<hr/>\n",
    "\n",
    "![Engineering](https://upload.wikimedia.org/wikipedia/commons/thumb/3/39/Fax_1.jpg/1024px-Fax_1.jpg)"
   ]
  },
  {
   "cell_type": "markdown",
   "metadata": {
    "slideshow": {
     "slide_type": "slide"
    }
   },
   "source": [
    "## What kind of model?\n",
    "\n",
    "![Family tree](models_family_tree.svg)"
   ]
  },
  {
   "cell_type": "markdown",
   "metadata": {
    "slideshow": {
     "slide_type": "slide"
    }
   },
   "source": [
    "## The `tyssue` project\n",
    "\n",
    "![Google image seach for 'epithelium'](google_search_epithelium.png)"
   ]
  },
  {
   "cell_type": "markdown",
   "metadata": {
    "slideshow": {
     "slide_type": "slide"
    }
   },
   "source": [
    "### Modeling fold formation in drosophila \n",
    "\n",
    "![Vue apicale](bio_legjoint_apical_view.svg)\n"
   ]
  },
  {
   "cell_type": "markdown",
   "metadata": {
    "slideshow": {
     "slide_type": "slide"
    }
   },
   "source": [
    "### Epithelium simulation\n",
    "\n",
    "![In silico legjoint simulation](silico_legjoint.svg)\n",
    "\n",
    "\n",
    " <table style=\"width:100%; border: 0px\">\n",
    "  <tr style=\"border: 0px\">\n",
    "    <th style=\"text-align: center; border: 0px\">Without force</th>\n",
    "    <th style=\"text-align: center; border: 0px\">With force</th>\n",
    "  </tr>\n",
    "  <tr style=\"border: 0px\">\n",
    "    <td style=\"text-align: center; border: 0px\"> <img src=\"fold_00_small.gif\" alt=\"No force\"> </td>\n",
    "    <td style=\"text-align: center; border: 0px\"> <img src=\"fold_12_small.gif\" alt=\"With force\"> </td>\n",
    "  </tr>\n",
    "</table> \n"
   ]
  },
  {
   "cell_type": "markdown",
   "metadata": {
    "slideshow": {
     "slide_type": "slide"
    }
   },
   "source": [
    "## Open source, tested, reproducible\n",
    "\n",
    "Code documentation:\n",
    "\n",
    "> [tyssue documentation](https://tyssue.readthedocs.io)\n",
    "\n",
    "The code:\n",
    "\n",
    "> [github.com/DamCB/tyssue](https://github.com/DamCB/tyssue)\n",
    "\n",
    "[![Build Status](https://travis-ci.org/DamCB/tyssue.svg?branch=master)](https://travis-ci.org/DamCB/tyssue)\n",
    "\n",
    "[![Coverage Status](https://coveralls.io/repos/github/DamCB/tyssue/badge.svg?branch=master)](https://coveralls.io/github/DamCB/tyssue?branch=master)\n",
    "\n",
    "Demos:\n",
    "\n",
    ">  [github.com/DamCB/tyssue-notebooks](https://github.com/DamCB/tyssue-notebooks)\n"
   ]
  },
  {
   "cell_type": "markdown",
   "metadata": {},
   "source": [
    "![A model of an organoid](rendered_organo.png)"
   ]
  },
  {
   "cell_type": "markdown",
   "metadata": {},
   "source": [
    "### Perspectives de développement"
   ]
  },
  {
   "cell_type": "markdown",
   "metadata": {},
   "source": [
    "### Application à la modélisation des organoïdes"
   ]
  },
  {
   "cell_type": "markdown",
   "metadata": {
    "slideshow": {
     "slide_type": "slide"
    }
   },
   "source": [
    "## Big Thanks\n",
    "\n",
    "#### Toulouse research team\n",
    "\n",
    "Mélanie Gettings, Bruno Monier, Sonia Shott, Thomas Mangeat, Amsha Proag\n",
    "Corinne Bennassayag & ** Magali Suzanne **\n",
    "\n",
    "#### The physicists\n",
    "\n",
    "Cyprien Gay & François Molino\n",
    "\n",
    "#### The scipy community\n",
    "\n",
    "Tiago Peixoto & Hadrien Mary\n"
   ]
  },
  {
   "cell_type": "code",
   "execution_count": null,
   "metadata": {
    "collapsed": true
   },
   "outputs": [],
   "source": []
  }
 ],
 "metadata": {
  "celltoolbar": "Slideshow",
  "kernelspec": {
   "display_name": "Python 3",
   "language": "python",
   "name": "python3"
  },
  "language_info": {
   "codemirror_mode": {
    "name": "ipython",
    "version": 3
   },
   "file_extension": ".py",
   "mimetype": "text/x-python",
   "name": "python",
   "nbconvert_exporter": "python",
   "pygments_lexer": "ipython3",
   "version": "3.5.1"
  }
 },
 "nbformat": 4,
 "nbformat_minor": 0
}
