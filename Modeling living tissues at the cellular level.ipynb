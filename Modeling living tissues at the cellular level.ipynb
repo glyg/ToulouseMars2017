{
 "cells": [
  {
   "cell_type": "markdown",
   "metadata": {
    "slideshow": {
     "slide_type": "slide"
    }
   },
   "source": [
    "# Open source tools to model biological tissues\n",
    "\n",
    "**Guillaume Gay**\n",
    "\n",
    "\n"
   ]
  },
  {
   "cell_type": "markdown",
   "metadata": {
    "slideshow": {
     "slide_type": "slide"
    }
   },
   "source": [
    "## Morphogénie Logiciels\n",
    "\n",
    "#### A free software edition company\n",
    "\n",
    "#### **Open** and **reproducible** scientific software\n",
    "\n",
    "#### Focus on modeling"
   ]
  },
  {
   "cell_type": "markdown",
   "metadata": {
    "slideshow": {
     "slide_type": "slide"
    }
   },
   "source": [
    "<hr/>\n",
    "\n",
    "## Why model?\n",
    "\n",
    "<hr/>\n",
    "\n",
    "![Engineering](https://upload.wikimedia.org/wikipedia/commons/thumb/3/39/Fax_1.jpg/600px-Fax_1.jpg)"
   ]
  },
  {
   "cell_type": "markdown",
   "metadata": {
    "slideshow": {
     "slide_type": "slide"
    }
   },
   "source": [
    "## What kind of model?\n",
    "\n",
    "![Family tree](models_family_tree.png)"
   ]
  },
  {
   "cell_type": "markdown",
   "metadata": {
    "slideshow": {
     "slide_type": "slide"
    }
   },
   "source": [
    "## The `tyssue` project\n",
    "\n",
    "* Separate the geometry from the dynamics\n",
    "* 2D / 3D vertex cell-based models\n",
    "* finite-element / sub-cellular capabilities\n",
    "* easy to expand\n"
   ]
  },
  {
   "cell_type": "markdown",
   "metadata": {
    "slideshow": {
     "slide_type": "slide"
    }
   },
   "source": [
    "### Modeling fold formation in drosophila \n",
    "\n",
    " <table style=\"width:100%; border: 0px\">\n",
    "  <tr style=\"border: 0px\">\n",
    "    <td style=\"text-align: center; border: 0px\"> <img src=\"apical_vue_in_vivo.gif\" alt=\"In vivo apical vue\"> </td>\n",
    "    <td style=\"text-align: center; border: 0px\"> <img src=\"bio_legjoint.png\" alt=\"Modeling elements\"> </td>\n",
    "  </tr>\n",
    "</table> \n",
    "\n",
    "Monier, Gettings _et al._ Nature 2015"
   ]
  },
  {
   "cell_type": "markdown",
   "metadata": {
    "slideshow": {
     "slide_type": "slide"
    }
   },
   "source": [
    "### Epithelium simulation\n",
    "\n",
    "![In silico legjoint simulation](silico_legjoint.svg)\n",
    "\n",
    "\n",
    " <table style=\"width:100%; border: 0px\">\n",
    "  <tr style=\"border: 0px\">\n",
    "    <th style=\"text-align: center; border: 0px\">Without force</th>\n",
    "    <th style=\"text-align: center; border: 0px\">With force</th>\n",
    "  </tr>\n",
    "  <tr style=\"border: 0px\">\n",
    "    <td style=\"text-align: center; border: 0px\"> <img src=\"fold_00_small.gif\" alt=\"No force\"> </td>\n",
    "    <td style=\"text-align: center; border: 0px\"> <img src=\"fold_12_small.gif\" alt=\"With force\"> </td>\n",
    "  </tr>\n",
    "</table> \n"
   ]
  },
  {
   "cell_type": "markdown",
   "metadata": {
    "slideshow": {
     "slide_type": "slide"
    }
   },
   "source": [
    "## Open source, tested, reproducible\n",
    "\n",
    "Code documentation:\n",
    "\n",
    "> [tyssue documentation](https://tyssue.readthedocs.io)\n",
    "\n",
    "The code:\n",
    "\n",
    "> [github.com/DamCB/tyssue](https://github.com/DamCB/tyssue)\n",
    "\n",
    "[![Build Status](https://travis-ci.org/DamCB/tyssue.svg?branch=master)](https://travis-ci.org/DamCB/tyssue)\n",
    "\n",
    "[![Coverage Status](https://coveralls.io/repos/github/DamCB/tyssue/badge.svg?branch=master)](https://coveralls.io/github/DamCB/tyssue?branch=master)\n",
    "\n",
    "Demos:\n",
    "\n",
    ">  [github.com/DamCB/tyssue-notebooks](https://github.com/DamCB/tyssue-notebooks)\n"
   ]
  },
  {
   "cell_type": "markdown",
   "metadata": {
    "slideshow": {
     "slide_type": "slide"
    }
   },
   "source": [
    "### Application to organoid modeling\n",
    "\n",
    "![An early model of an organoid](organo_rendered.gif)\n",
    "\n"
   ]
  },
  {
   "cell_type": "markdown",
   "metadata": {
    "slideshow": {
     "slide_type": "slide"
    }
   },
   "source": [
    "## Future directions\n",
    "\n",
    "* New physics with Cyprien Gay @ MSC (tissue rheology)\n",
    "* Model the extra-cellular matrix\n",
    "* Integrate bio-chemistry"
   ]
  },
  {
   "cell_type": "markdown",
   "metadata": {
    "slideshow": {
     "slide_type": "slide"
    }
   },
   "source": [
    "## Thank you\n",
    "\n",
    "#### Toulouse research team\n",
    "\n",
    "Mélanie Gettings, Bruno Monier, Sonia Shott, Thomas Mangeat, Amsha Proag\n",
    "Corinne Bennassayag & ** Magali Suzanne **\n",
    "\n",
    "#### The physicists\n",
    "\n",
    "Cyprien Gay & François Molino\n",
    "\n",
    "#### The scipy community\n",
    "\n",
    "Tiago Peixoto & Hadrien Mary\n"
   ]
  },
  {
   "cell_type": "markdown",
   "metadata": {
    "slideshow": {
     "slide_type": "slide"
    }
   },
   "source": [
    "## And now for a live demo!"
   ]
  },
  {
   "cell_type": "code",
   "execution_count": 10,
   "metadata": {
    "collapsed": false,
    "slideshow": {
     "slide_type": "subslide"
    }
   },
   "outputs": [],
   "source": [
    "from tyssue import Monolayer\n",
    "from tyssue.io import hdf5\n",
    "from tyssue.config.geometry import bulk_spec\n",
    "from tyssue.draw.threejs_draw import view_3js\n",
    "from IPython.display import display \n",
    "\n",
    "datasets = hdf5.load_datasets('organo.hf5',\n",
    "                              data_names=['face', 'cell',\n",
    "                                          'edge', 'vert'])\n",
    "\n",
    "organo = Monolayer('organoid', datasets, bulk_spec())\n",
    "\n",
    "renderer, line = view_3js(organo)\n",
    "display(renderer)"
   ]
  }
 ],
 "metadata": {
  "celltoolbar": "Slideshow",
  "kernelspec": {
   "display_name": "Python 3",
   "language": "python",
   "name": "python3"
  },
  "language_info": {
   "codemirror_mode": {
    "name": "ipython",
    "version": 3
   },
   "file_extension": ".py",
   "mimetype": "text/x-python",
   "name": "python",
   "nbconvert_exporter": "python",
   "pygments_lexer": "ipython3",
   "version": "3.5.1"
  },
  "widgets": {
   "state": {
    "97010eeb0b9f4dcba6a83d91c616bbec": {
     "views": [
      {
       "cell_index": 12
      }
     ]
    }
   },
   "version": "1.2.0"
  }
 },
 "nbformat": 4,
 "nbformat_minor": 0
}
