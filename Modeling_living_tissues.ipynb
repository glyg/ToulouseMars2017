{
 "cells": [
  {
   "cell_type": "markdown",
   "metadata": {
    "slideshow": {
     "slide_type": "slide"
    }
   },
   "source": [
    "# An overview of biological tissue modeling tools\n",
    "\n",
    "\n",
    "**Guillaume Gay**\n",
    "\n",
    "\n",
    "http://morphogenie.fr"
   ]
  },
  {
   "cell_type": "markdown",
   "metadata": {
    "slideshow": {
     "slide_type": "slide"
    }
   },
   "source": [
    "## Morphogénie Logiciels\n",
    "\n",
    "#### A free software edition company\n",
    "\n",
    "#### **Open** and **reproducible** scientific software\n",
    "\n",
    "#### Focus on modeling"
   ]
  },
  {
   "cell_type": "markdown",
   "metadata": {
    "slideshow": {
     "slide_type": "slide"
    }
   },
   "source": [
    "<hr/>\n",
    "\n",
    "## The need for interfaces\n",
    "\n",
    "<hr/>\n",
    "\n",
    "\n",
    "* Numerical models offer a _common ground_\n",
    "* _integrate_ data from multiple sources\n",
    "\n",
    "\n",
    "> Less in vivo experiments, better targeted\n"
   ]
  },
  {
   "cell_type": "markdown",
   "metadata": {
    "slideshow": {
     "slide_type": "slide"
    }
   },
   "source": [
    "## What kind of model?\n",
    "\n",
    "![Family tree](models_family_tree.png)"
   ]
  },
  {
   "cell_type": "markdown",
   "metadata": {
    "slideshow": {
     "slide_type": "slide"
    }
   },
   "source": [
    "## PhysiCell\n",
    "\n",
    "* Multi-Agent\n",
    "* C++ / XML\n",
    "* BSD licenced \n",
    " \n",
    " ![PhysiCell software](physicell_example.png)\n",
    " "
   ]
  },
  {
   "cell_type": "markdown",
   "metadata": {},
   "source": [
    "<iframe width=\"560\" height=\"315\" src=\"https://www.youtube.com/embed/nJ2urSm4ilU\" frameborder=\"0\" allow=\"autoplay; encrypted-media\" allowfullscreen></iframe>"
   ]
  },
  {
   "cell_type": "markdown",
   "metadata": {
    "slideshow": {
     "slide_type": "slide"
    }
   },
   "source": [
    "## The `tyssue` project\n",
    "\n",
    "* Separate the geometry from the dynamics\n",
    "* 2D / 3D vertex cell-based models\n",
    "* finite-element / sub-cellular capabilities\n",
    "* easy to expand\n"
   ]
  },
  {
   "cell_type": "markdown",
   "metadata": {
    "slideshow": {
     "slide_type": "slide"
    }
   },
   "source": [
    "### Modeling fold formation in drosophila \n",
    "\n",
    " <table style=\"width:100%; border: 0px\">\n",
    "  <tr style=\"border: 0px\">\n",
    "    <td style=\"text-align: center; border: 0px\"> <img src=\"apical_vue_in_vivo.gif\" alt=\"In vivo apical vue\"> </td>\n",
    "    <td style=\"text-align: center; border: 0px\"> <img src=\"bio_legjoint.png\" alt=\"Modeling elements\"> </td>\n",
    "  </tr>\n",
    "</table> \n",
    "\n",
    "Monier, Gettings _et al._ Nature 2015"
   ]
  },
  {
   "cell_type": "markdown",
   "metadata": {
    "slideshow": {
     "slide_type": "slide"
    }
   },
   "source": [
    "### Epithelium simulation\n",
    "\n",
    "![In silico legjoint simulation](silico_legjoint.svg)\n",
    "\n",
    "\n",
    " <table style=\"width:100%; border: 0px\">\n",
    "   <tr style=\"border: 0px\">\n",
    "    <td style=\"text-align: center; border: 0px\"> <img src=\"fold_00_small.gif\" alt=\"No force\"> </td>\n",
    "    <td style=\"text-align: center; border: 0px\"> <img src=\"fold_12_small.gif\" alt=\"With force\"> </td>\n",
    "  </tr>\n",
    "</table> \n"
   ]
  },
  {
   "cell_type": "markdown",
   "metadata": {
    "slideshow": {
     "slide_type": "subslide"
    }
   },
   "source": [
    "## Open source, tested, reproducible\n",
    "\n",
    "Code documentation:\n",
    "> [tyssue documentation](https://tyssue.readthedocs.io)\n",
    "\n",
    "The code:\n",
    "> [github.com/DamCB/tyssue](https://github.com/DamCB/tyssue)\n",
    "\n",
    " <table style=\"width:100%; border: 0px\">\n",
    "   <tr style=\"border: 0px\">\n",
    "    <td style=\"text-align: center; border: 0px\"> \n",
    "    [![Build Status](https://travis-ci.org/DamCB/tyssue.svg?branch=master)](https://travis-ci.org/DamCB/tyssue)\n",
    "    </td>\n",
    "    <td style=\"text-align: center; border: 0px\"> \n",
    "    [![Coverage Status](https://coveralls.io/repos/github/DamCB/tyssue/badge.svg?branch=master)](https://coveralls.io/github/DamCB/tyssue?branch=master)\n",
    "    </td>\n",
    "  </tr>\n",
    "</table>  "
   ]
  },
  {
   "cell_type": "markdown",
   "metadata": {
    "slideshow": {
     "slide_type": "slide"
    }
   },
   "source": [
    "### Application to organoid modeling\n",
    "\n",
    "![In vivo](image_organo.png)"
   ]
  },
  {
   "cell_type": "markdown",
   "metadata": {
    "slideshow": {
     "slide_type": "slide"
    }
   },
   "source": [
    "\n",
    "![An early model of an organoid](organo_rendered.gif)\n",
    "\n"
   ]
  },
  {
   "cell_type": "markdown",
   "metadata": {
    "slideshow": {
     "slide_type": "slide"
    }
   },
   "source": [
    "## Open Problems\n",
    "\n",
    "* Physics are far from the biology\n",
    "* The extra-cellular matrix\n",
    "* From image to model\n",
    "* Integrate bio-chemestry\n",
    "\n"
   ]
  },
  {
   "cell_type": "markdown",
   "metadata": {
    "slideshow": {
     "slide_type": "slide"
    }
   },
   "source": [
    "## Thank you\n",
    "\n",
    "#### Drosophila team\n",
    "\n",
    "Sophie Theis, Mélanie Gettings, Bruno Monier, Sonia Shott, Thomas Mangeat, Amsha Proag,\n",
    "Mélanie Gracia, Corinne Bennassayag & **Magali Suzanne**\n",
    "\n",
    "\n",
    "#### Organoid porject\n",
    "\n",
    "Frédéric Barreau, Florian Bugarin, Stéphane Segonds, Félix Quentin, **Audrey Ferrand**\n",
    "\n",
    "\n",
    "#### The physicists\n",
    "\n",
    "Cyprien Gay & François Molino\n",
    "\n",
    "#### The scipy community & tyssue contributors\n",
    "\n",
    "Tiago Peixoto, Hadrien Mary, Mandar Inamdar, Bertand Carre\n"
   ]
  },
  {
   "cell_type": "code",
   "execution_count": 15,
   "metadata": {
    "slideshow": {
     "slide_type": "slide"
    }
   },
   "outputs": [
    {
     "name": "stdout",
     "output_type": "stream",
     "text": [
      "Our model has 1024 cells and 4080 vertices\n"
     ]
    },
    {
     "data": {
      "application/vnd.jupyter.widget-view+json": {
       "model_id": "ebf0d4f8087944c8b6456ef9fcfa51d9",
       "version_major": 2,
       "version_minor": 0
      },
      "text/html": [
       "<p>Failed to display Jupyter Widget of type <code>Figure</code>.</p>\n",
       "<p>\n",
       "  If you're reading this message in the Jupyter Notebook or JupyterLab Notebook, it may mean\n",
       "  that the widgets JavaScript is still loading. If this message persists, it\n",
       "  likely means that the widgets JavaScript library is either not installed or\n",
       "  not enabled. See the <a href=\"https://ipywidgets.readthedocs.io/en/stable/user_install.html\">Jupyter\n",
       "  Widgets Documentation</a> for setup instructions.\n",
       "</p>\n",
       "<p>\n",
       "  If you're reading this message in another frontend (for example, a static\n",
       "  rendering on GitHub or <a href=\"https://nbviewer.jupyter.org/\">NBViewer</a>),\n",
       "  it may mean that your frontend doesn't currently support widgets.\n",
       "</p>\n"
      ],
      "text/plain": [
       "Figure(anglex=-1.0197277984057636, angley=-0.3740342861224354, anglez=1.058535709963197, camera_center=[0.0, 0.0, 0.0], height=500, matrix_projection=[3.017766952966369, 0.0, 0.0, 0.0, 0.0, 2.414213562373095, 0.0, 0.0, 0.0, 0.0, -1.000002000002, -1.0, 0.0, 0.0, -0.02000002000002, 0.0], matrix_world=[0.0072266549362155685, -0.012851261307265091, -0.005787110961806635, 0.0, 0.009645317034193033, -0.00023263898967205448, 0.012561204179910076, 0.0, -0.010276839484091263, -0.009255326787957069, 0.007719819188643436, 0.0, -0.0024687981749843425, 0.00836238592206728, -1.280121464937037, 1.0], meshes=[Mesh(color=array('#2b5d0a', dtype='<U7'), lines=array([[ 490,   93],\n",
       "       [   1, 1302],\n",
       "       [ 782,  870],\n",
       "       ...,\n",
       "       [2036, 4076],\n",
       "       [4076, 4077],\n",
       "       [4077, 2037]], dtype=uint32), texture=None, x=array([ -7.53294476, -15.35698478,  -0.01824334, ...,  16.54923704,\n",
       "        13.29647077,   0.59612013]), y=array([ -8.94353851,  -5.73187161,  -5.71597441, ..., -14.68733008,\n",
       "       -18.58501342,  -3.47751421]), z=array([-20.98301472, -17.21909287, -25.40163806, ...,  -4.33768762,\n",
       "        -7.72408446,  21.44078092])), Mesh(color=array('#2b5d0a', dtype='<U7'), lines=array([[ 490,   93],\n",
       "       [   1, 1302],\n",
       "       [ 782,  870],\n",
       "       ...,\n",
       "       [2036, 4076],\n",
       "       [4076, 4077],\n",
       "       [4077, 2037]], dtype=uint32), texture=None, x=array([ -7.53294476, -15.35698478,  -0.01824334, ...,  16.54923704,\n",
       "        13.29647077,   0.59612013]), y=array([ -8.94353851,  -5.73187161,  -5.71597441, ..., -14.68733008,\n",
       "       -18.58501342,  -3.47751421]), z=array([-20.98301472, -17.21909287, -25.40163806, ...,  -4.33768762,\n",
       "        -7.72408446,  21.44078092])), Mesh(color=array([[0.192357, 0.403199, 0.555836],\n",
       "       [0.168126, 0.459988, 0.558082],\n",
       "       [0.168126, 0.459988, 0.558082],\n",
       "       ...,\n",
       "       [0.243113, 0.292092, 0.538516],\n",
       "       [0.273006, 0.20452 , 0.501721],\n",
       "       [0.151918, 0.500685, 0.557587]]), lines=array([[ 490,   93],\n",
       "       [   1, 1302],\n",
       "       [ 782,  870],\n",
       "       ...,\n",
       "       [2036, 4076],\n",
       "       [4076, 4077],\n",
       "       [4077, 2037]], dtype=uint32), texture=None, x=array([ -7.53294476, -15.35698478,  -0.01824334, ...,  16.54923704,\n",
       "        13.29647077,   0.59612013]), y=array([ -8.94353851,  -5.73187161,  -5.71597441, ..., -14.68733008,\n",
       "       -18.58501342,  -3.47751421]), z=array([-20.98301472, -17.21909287, -25.40163806, ...,  -4.33768762,\n",
       "        -7.72408446,  21.44078092])), Mesh(color=array([[0.267968, 0.223549, 0.512008],\n",
       "       [0.278012, 0.180367, 0.486697],\n",
       "       [0.143343, 0.522773, 0.556295],\n",
       "       ...,\n",
       "       [0.19943 , 0.387607, 0.554642],\n",
       "       [0.120081, 0.622161, 0.534946],\n",
       "       [0.260571, 0.246922, 0.522828]]), lines=array([[ 490,   93],\n",
       "       [   1, 1302],\n",
       "       [ 782,  870],\n",
       "       ...,\n",
       "       [2036, 4076],\n",
       "       [4076, 4077],\n",
       "       [4077, 2037]], dtype=uint32), texture=None, x=array([ -7.53294476, -15.35698478,  -0.01824334, ...,  16.54923704,\n",
       "        13.29647077,   0.59612013]), y=array([ -8.94353851,  -5.73187161,  -5.71597441, ..., -14.68733008,\n",
       "       -18.58501342,  -3.47751421]), z=array([-20.98301472, -17.21909287, -25.40163806, ...,  -4.33768762,\n",
       "        -7.72408446,  21.44078092])), Mesh(color=array([[0.267004, 0.004874, 0.329415],\n",
       "       [0.267004, 0.004874, 0.329415],\n",
       "       [0.267004, 0.004874, 0.329415],\n",
       "       ...,\n",
       "       [0.267004, 0.004874, 0.329415],\n",
       "       [0.267004, 0.004874, 0.329415],\n",
       "       [0.267004, 0.004874, 0.329415]]), lines=array([[ 490,   93],\n",
       "       [   1, 1302],\n",
       "       [ 782,  870],\n",
       "       ...,\n",
       "       [2036, 4076],\n",
       "       [4076, 4077],\n",
       "       [4077, 2037]], dtype=uint32), texture=None, x=array([ -7.53294476, -15.35698478,  -0.01824334, ...,  16.54923704,\n",
       "        13.29647077,   0.59612013]), y=array([ -8.94353851,  -5.73187161,  -5.71597441, ..., -14.68733008,\n",
       "       -18.58501342,  -3.47751421]), z=array([-20.98301472, -17.21909287, -25.40163806, ...,  -4.33768762,\n",
       "        -7.72408446,  21.44078092])), Mesh(color=array([[0.174274, 0.445044, 0.557792],\n",
       "       [0.185556, 0.41857 , 0.556753],\n",
       "       [0.128087, 0.647749, 0.523491],\n",
       "       ...,\n",
       "       [0.248629, 0.278775, 0.534556],\n",
       "       [0.171176, 0.45253 , 0.557965],\n",
       "       [0.278826, 0.17549 , 0.483397]]), lines=array([[ 490,   93],\n",
       "       [   1, 1302],\n",
       "       [ 782,  870],\n",
       "       ...,\n",
       "       [2036, 4076],\n",
       "       [4076, 4077],\n",
       "       [4077, 2037]], dtype=uint32), texture=None, x=array([ -7.53294476, -15.35698478,  -0.01824334, ...,  16.54923704,\n",
       "        13.29647077,   0.59612013]), y=array([ -8.94353851,  -5.73187161,  -5.71597441, ..., -14.68733008,\n",
       "       -18.58501342,  -3.47751421]), z=array([-20.98301472, -17.21909287, -25.40163806, ...,  -4.33768762,\n",
       "        -7.72408446,  21.44078092])), Mesh(color=array([[0.174274, 0.445044, 0.557792],\n",
       "       [0.185556, 0.41857 , 0.556753],\n",
       "       [0.128087, 0.647749, 0.523491],\n",
       "       ...,\n",
       "       [0.248629, 0.278775, 0.534556],\n",
       "       [0.171176, 0.45253 , 0.557965],\n",
       "       [0.278826, 0.17549 , 0.483397]]), lines=array([[ 490,   93],\n",
       "       [   1, 1302],\n",
       "       [ 782,  870],\n",
       "       ...,\n",
       "       [2036, 4076],\n",
       "       [4076, 4077],\n",
       "       [4077, 2037]], dtype=uint32), texture=None, x=array([ -7.53294476, -15.35698478,  -0.01824334, ...,  16.54923704,\n",
       "        13.29647077,   0.59612013]), y=array([ -8.94353851,  -5.73187161,  -5.71597441, ..., -14.68733008,\n",
       "       -18.58501342,  -3.47751421]), z=array([-20.98301472, -17.21909287, -25.40163806, ...,  -4.33768762,\n",
       "        -7.72408446,  21.44078092]))], style={'axes': {'visible': False, 'label': {'color': 'white'}, 'ticklabel': {'color': 'white'}, 'color': 'white'}, 'box': {'visible': False}, 'background-color': 'black'}, tf=None, width=400, xlim=[-31.193552714310513, 31.942225521143822], ylim=[-31.193552714310513, 31.942225521143822], zlim=[-31.193552714310513, 31.942225521143822])"
      ]
     },
     "metadata": {},
     "output_type": "display_data"
    }
   ],
   "source": [
    "from tyssue import Monolayer, config\n",
    "from tyssue.io import hdf5\n",
    "from tyssue.draw.ipv_draw import view_ipv\n",
    "\n",
    "\n",
    "datasets = hdf5.load_datasets('organo.hf5',\n",
    "                              data_names=['face', 'cell',\n",
    "                                          'edge', 'vert'])\n",
    "organo = Monolayer('organoid', datasets,\n",
    "                   config.geometry.bulk_spec())\n",
    "print(f'Our model has {organo.Nc} cells and {organo.Nv} vertices')\n",
    "\n",
    "organo.vert_df['rho'] = (organo.vert_df[['x', 'y', 'z']]**2).sum(axis=1)**0.5\n",
    "fig, mesh = view_ipv(organo, color=organo.vert_df['rho'])\n",
    "fig"
   ]
  }
 ],
 "metadata": {
  "celltoolbar": "Slideshow",
  "kernelspec": {
   "display_name": "Python 3",
   "language": "python",
   "name": "python3"
  },
  "language_info": {
   "codemirror_mode": {
    "name": "ipython",
    "version": 3
   },
   "file_extension": ".py",
   "mimetype": "text/x-python",
   "name": "python",
   "nbconvert_exporter": "python",
   "pygments_lexer": "ipython3",
   "version": "3.6.2"
  },
  "widgets": {
   "state": {
    "8b08ad6c84434bc384ccc1e216833fa4": {
     "views": [
      {
       "cell_index": 12
      }
     ]
    }
   },
   "version": "1.2.0"
  }
 },
 "nbformat": 4,
 "nbformat_minor": 1
}
